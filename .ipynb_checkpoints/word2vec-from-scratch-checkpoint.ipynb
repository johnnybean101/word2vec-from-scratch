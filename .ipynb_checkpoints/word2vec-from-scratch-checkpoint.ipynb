{
 "cells": [
  {
   "cell_type": "markdown",
   "metadata": {},
   "source": [
    "### Import Libraries    "
   ]
  },
  {
   "cell_type": "code",
   "execution_count": 1,
   "metadata": {},
   "outputs": [],
   "source": [
    "# import libraries\n",
    "import re\n",
    "import itertools\n",
    "from collections import OrderedDict\n",
    "import numpy as np\n",
    "from random import shuffle\n",
    "import matplotlib.pyplot as plt"
   ]
  },
  {
   "cell_type": "markdown",
   "metadata": {},
   "source": [
    "### Load Text Data"
   ]
  },
  {
   "cell_type": "code",
   "execution_count": 2,
   "metadata": {},
   "outputs": [],
   "source": [
    "# load text file\n",
    "def load_text(file):\n",
    "    with open(file, mode='rt', encoding='utf-8-sig') as f:\n",
    "        text = f.read().split('\\n')\n",
    "        return [line.split('\\t')[0] for line in text]"
   ]
  },
  {
   "cell_type": "code",
   "execution_count": 3,
   "metadata": {},
   "outputs": [],
   "source": [
    "# remove punctuations, convert to lowercase\n",
    "def clean_text(text):\n",
    "    return [re.sub('[^a-z0-9 ]', '', line.lower()).split() for line in text]"
   ]
  },
  {
   "cell_type": "code",
   "execution_count": 4,
   "metadata": {},
   "outputs": [
    {
     "name": "stdout",
     "output_type": "stream",
     "text": [
      "Sample Text: ['she', 'advised', 'him', 'to', 'visit', 'boston', 'because', 'she', 'thought', 'it', 'was', 'the', 'most', 'beautiful', 'city', 'in', 'the', 'world']\n"
     ]
    }
   ],
   "source": [
    "# load text\n",
    "text = load_text('tl_en.txt')\n",
    "# clean text\n",
    "text = clean_text(text)[-5:]\n",
    "print('Sample Text: ' + str(text[0]))"
   ]
  },
  {
   "cell_type": "code",
   "execution_count": 5,
   "metadata": {},
   "outputs": [
    {
     "name": "stdout",
     "output_type": "stream",
     "text": [
      "Text Vocabulary: 86\n"
     ]
    }
   ],
   "source": [
    "# get text vocabulary\n",
    "vocab = list(OrderedDict.fromkeys(list(itertools.chain.from_iterable(text))))\n",
    "vocab_size = len(vocab)\n",
    "print('Text Vocabulary: ' + str(vocab_size))"
   ]
  },
  {
   "cell_type": "markdown",
   "metadata": {},
   "source": [
    "### Word2Vec CBOW Model"
   ]
  },
  {
   "cell_type": "code",
   "execution_count": 21,
   "metadata": {},
   "outputs": [],
   "source": [
    "# define hyperparameters\n",
    "window_size = 3\n",
    "h_dim = 10\n",
    "learning_rate = 0.001\n",
    "epoch = 100000 \n",
    "\n",
    "# define weights\n",
    "theta1 = np.random.rand(vocab_size, h_dim)\n",
    "theta2 = np.random.rand(h_dim, vocab_size)\n",
    "\n",
    "# define softmax activation function\n",
    "def softmax(x):\n",
    "    e_x = np.exp(x)\n",
    "    return e_x / np.sum(e_x)"
   ]
  },
  {
   "cell_type": "code",
   "execution_count": 45,
   "metadata": {},
   "outputs": [],
   "source": [
    "# perform one-hot encoding\n",
    "word_dict = dict()\n",
    "for index, word in enumerate(vocab):\n",
    "    word_dict[word] = [index, np.zeros(vocab_size)]\n",
    "    word_dict[word][1][index] = 1"
   ]
  },
  {
   "cell_type": "code",
   "execution_count": 55,
   "metadata": {},
   "outputs": [
    {
     "name": "stdout",
     "output_type": "stream",
     "text": [
      "0\n",
      "1\n",
      "2\n",
      "3\n",
      "4\n",
      "5\n",
      "6\n",
      "7\n",
      "8\n",
      "9\n",
      "10\n",
      "11\n",
      "12\n",
      "13\n",
      "14\n",
      "15\n",
      "16\n",
      "17\n",
      "18\n",
      "19\n",
      "20\n",
      "21\n",
      "22\n",
      "23\n",
      "24\n",
      "25\n",
      "26\n",
      "27\n",
      "28\n",
      "29\n",
      "30\n",
      "31\n",
      "32\n",
      "33\n",
      "34\n",
      "35\n",
      "36\n",
      "37\n",
      "38\n",
      "39\n",
      "40\n",
      "41\n",
      "42\n",
      "43\n",
      "44\n",
      "45\n",
      "46\n",
      "47\n",
      "48\n",
      "49\n",
      "50\n",
      "51\n",
      "52\n",
      "53\n",
      "54\n",
      "55\n",
      "56\n",
      "57\n",
      "58\n",
      "59\n",
      "60\n",
      "61\n",
      "62\n",
      "63\n",
      "64\n",
      "65\n",
      "66\n",
      "67\n",
      "68\n",
      "69\n",
      "70\n",
      "71\n",
      "72\n",
      "73\n",
      "74\n",
      "75\n",
      "76\n",
      "77\n",
      "78\n",
      "79\n",
      "80\n",
      "81\n",
      "82\n",
      "83\n",
      "84\n",
      "85\n"
     ]
    }
   ],
   "source": [
    "for i in word_dict.values():\n",
    "    print(i[0])"
   ]
  },
  {
   "cell_type": "code",
   "execution_count": 23,
   "metadata": {},
   "outputs": [
    {
     "name": "stdout",
     "output_type": "stream",
     "text": [
      "Number of Training Samples: 118\n"
     ]
    }
   ],
   "source": [
    "# preprocess text using CBOW model\n",
    "context_focus = list()\n",
    "for line in text:\n",
    "    for index, focus in enumerate(line):\n",
    "        context = list()\n",
    "        for j in range(index - window_size, index + window_size + 1):\n",
    "            if j >= 0 and j <= len(line) - 1 and j != index:\n",
    "                context.append(word_dict[line[j]])\n",
    "        context_focus.append([sum(context), word_dict[focus]])\n",
    "# number of training samples\n",
    "m = len(context_focus)\n",
    "print('Number of Training Samples: ' + str(m))"
   ]
  },
  {
   "cell_type": "code",
   "execution_count": 24,
   "metadata": {},
   "outputs": [
    {
     "data": {
      "text/plain": [
       "[<matplotlib.lines.Line2D at 0x1ef364caac8>]"
      ]
     },
     "execution_count": 24,
     "metadata": {},
     "output_type": "execute_result"
    },
    {
     "data": {
      "image/png": "[encoded data removed]",
      "text/plain": [
       "<Figure size 432x288 with 1 Axes>"
      ]
     },
     "metadata": {
      "needs_background": "light"
     },
     "output_type": "display_data"
    }
   ],
   "source": [
    "# stochastic gradient descent\n",
    "ave_loss = list()\n",
    "for i in range(epoch):\n",
    "    # introduce random sampling\n",
    "    shuffle(context_focus)\n",
    "    loss = 0\n",
    "    for pair in context_focus:\n",
    "        # perform feedforward\n",
    "        a2 = np.dot(pair[0], theta1)\n",
    "        a3 = softmax(np.dot(a2, theta2))\n",
    "        loss += -np.log(np.dot(a3, pair[1].T))\n",
    "        \n",
    "        # perform backpropagation\n",
    "        delta_theta2 = np.outer(a2, a3 - pair[1])\n",
    "        delta_theta1 = np.outer(pair[0], np.dot(theta2, (a3 - pair[1]).T))\n",
    "        theta2 -= learning_rate * delta_theta2\n",
    "        theta1 -= learning_rate * delta_theta1\n",
    "    ave_loss.append(loss / m)"
   ]
  },
  {
   "cell_type": "code",
   "execution_count": 31,
   "metadata": {},
   "outputs": [
    {
     "data": {
      "text/plain": [
       "[<matplotlib.lines.Line2D at 0x1ef388aa888>]"
      ]
     },
     "execution_count": 31,
     "metadata": {},
     "output_type": "execute_result"
    },
    {
     "data": {
      "image/png": "[encoded data removed]",
      "text/plain": [
       "<Figure size 432x288 with 1 Axes>"
      ]
     },
     "metadata": {
      "needs_background": "light"
     },
     "output_type": "display_data"
    }
   ],
   "source": [
    "# plot loss vs epoch number\n",
    "plt.title('Average Loss vs Epoch Number')\n",
    "plt.xlabel('Epoch Number'), plt.ylabel('Average Loss')\n",
    "plt.plot(range(epoch), ave_loss)"
   ]
  },
  {
   "cell_type": "code",
   "execution_count": 57,
   "metadata": {},
   "outputs": [],
   "source": [
    "# theta2 as word vector representation \n",
    "dense_vec_dict = dict()\n",
    "for key, value in word_dict.items():\n",
    "    dense_vec_dict[key] = theta2[:,value[0]]"
   ]
  },
  {
   "cell_type": "code",
   "execution_count": 58,
   "metadata": {},
   "outputs": [
    {
     "data": {
      "text/plain": [
       "{'she': array([-1.00979691,  1.77820032,  2.02681054,  1.88463516,  0.58342689,\n",
       "        -2.00095021,  0.93482491, -1.23979739,  0.0772366 ,  1.9150502 ]),\n",
       " 'advised': array([ 0.55459182,  0.08904056,  0.77102787,  1.32113849,  1.47029896,\n",
       "        -1.38567815, -0.54508409, -0.26544475,  2.01100816, -0.93641901]),\n",
       " 'him': array([ 0.03117545,  0.65253626,  0.9000114 ,  1.18558212, -1.8872985 ,\n",
       "        -1.50563949,  1.06639525,  1.13580062,  2.2998223 ,  0.00307478]),\n",
       " 'to': array([-1.06463931, -0.60895037,  0.9624997 , -0.19348999,  3.48804967,\n",
       "         1.10838906, -0.15562143,  1.84809611,  0.3218258 , -1.39721503]),\n",
       " 'visit': array([ 0.25809052,  0.88461559,  1.31245356,  0.91384376,  0.79831899,\n",
       "        -0.69307622,  0.49721697,  2.13970186,  0.15429745, -0.01402546]),\n",
       " 'boston': array([ 2.08697864, -0.19860895,  1.8525178 ,  0.5779397 ,  1.37981941,\n",
       "        -0.41384553, -0.43688575,  0.95098629,  0.12920183,  0.68554332]),\n",
       " 'because': array([ 0.60414166, -0.24280391, -0.40737068,  1.23661844,  0.78305053,\n",
       "        -0.49673592,  1.28224783,  0.15029109,  1.84362861,  1.26506812]),\n",
       " 'thought': array([-0.97260308, -0.09423858,  1.07329537,  0.25897236,  1.35041036,\n",
       "         0.04600891,  2.10778394,  0.9700919 ,  0.32597495,  0.31902048]),\n",
       " 'it': array([ 0.77909159,  0.42325833,  1.84764019,  1.07717826, -0.24062147,\n",
       "         0.43990182,  0.11143773,  2.09569345, -1.25108374,  2.08832226]),\n",
       " 'was': array([ 0.37693575, -1.73612305,  0.50027656,  1.31786998,  0.99558523,\n",
       "         0.46412753,  0.80595134,  1.01234502,  0.81695604,  1.34575424]),\n",
       " 'the': array([ 0.9573587 , -0.64395131, -0.14889044, -0.4029103 ,  0.5385987 ,\n",
       "         0.80772983,  0.43061847,  0.04797358,  0.29058627,  3.17462786]),\n",
       " 'most': array([-0.77506876,  0.59109756,  0.44193544, -0.30235176,  0.46079359,\n",
       "        -0.4404013 ,  1.97796394, -0.31986954,  0.55100226,  2.07696958]),\n",
       " 'beautiful': array([-0.85638988,  0.28948924,  1.14810277,  0.50440107, -0.30732413,\n",
       "        -0.22508963,  1.5650127 ,  1.55046321, -1.58825601,  1.57721468]),\n",
       " 'city': array([-0.89331345, -0.20529758,  2.00861461,  1.16976357,  1.50135449,\n",
       "         1.28248705,  1.01880996, -0.39666754, -1.37610581,  0.67665259]),\n",
       " 'in': array([-1.07431995, -0.84921857,  0.24910805,  1.0106971 ,  0.43031545,\n",
       "         2.4673375 ,  0.68821764,  1.19416637,  0.21844956,  1.29703962]),\n",
       " 'world': array([-1.51592228,  0.96619569,  1.18292314, -1.97037652,  0.88424709,\n",
       "         1.16185892,  0.48201632,  0.21214473, -0.61113023,  1.23128663]),\n",
       " 'if': array([ 0.81394058, -0.20117837,  1.15510846, -0.56828548,  0.29503334,\n",
       "         2.01688557,  1.18883855,  1.68600211, -0.70467008, -1.27458716]),\n",
       " 'tom': array([ 1.74304605,  0.51068769,  0.98769879,  0.34508507, -0.64273485,\n",
       "         0.41499948,  1.52518685,  2.12719174, -0.26563446,  0.25768205]),\n",
       " 'would': array([-1.27006852,  0.89826031,  0.99578941,  1.67798119,  0.14248859,\n",
       "         1.65873234,  0.51329551,  2.00093724,  0.65387858, -0.54977529]),\n",
       " 'learn': array([-0.23996995,  1.87847991,  1.18147874, -0.48161462, -0.21869106,\n",
       "         0.59644818,  1.14010961,  0.87147447,  0.18061781,  1.04999725]),\n",
       " 'be': array([ 1.73307209,  2.20164571,  0.2184486 , -0.79922359,  0.89617202,\n",
       "         1.23750945,  1.76588003, -1.24718656, -0.25258222,  0.51719338]),\n",
       " 'a': array([ 0.30381689,  0.17506322, -0.73677519,  2.11684634, -0.25078978,\n",
       "         0.64095655, -1.3745855 ,  2.1187291 ,  2.57826394,  0.59117854]),\n",
       " 'little': array([ 0.39470415,  2.17372845, -0.04260059,  1.25433567, -0.03387248,\n",
       "         0.14863   , -0.43216432, -0.39165268,  1.34879171,  1.20207032]),\n",
       " 'more': array([-1.97883937,  0.83132327,  1.41908525,  0.04417845,  1.83238263,\n",
       "         0.2442972 , -0.83207231, -0.55511504,  1.90085978, -0.09938749]),\n",
       " 'positive': array([-0.15347408,  1.99257435,  1.3595146 ,  0.66004402,  2.02518269,\n",
       "        -0.08183339,  0.43873632, -1.17987418, -0.09297086, -0.36895692]),\n",
       " 'about': array([ 0.50323929,  1.51071409,  0.57080996,  0.65276566,  1.16345251,\n",
       "         1.29208322,  1.66918437, -0.11401378, -0.22260125, -1.36390692]),\n",
       " 'things': array([ 0.45623565,  2.40263964,  0.23340777,  1.26602488, -0.81685273,\n",
       "         1.13660348,  0.53472781,  0.37056317,  0.47269898, -0.26262466]),\n",
       " 'people': array([ 2.44285214,  0.30990562, -0.31020851,  0.20776747,  0.42282808,\n",
       "         0.89759339,  0.42597542,  1.43760292,  1.62560823, -0.61217324]),\n",
       " 'probably': array([ 0.07722355,  0.36389917,  1.88755275, -0.70066831,  1.17854054,\n",
       "         0.42459911,  1.86683219, -0.09682094,  0.29250973, -1.00273525]),\n",
       " 'like': array([-0.50468793,  1.63103306,  2.37299529, -0.14038826, -0.60721688,\n",
       "         0.00701445, -0.0597134 ,  0.87970492,  0.12617936, -0.60929687]),\n",
       " 'bit': array([ 0.99465596,  1.68350523,  1.8444987 ,  0.5470066 ,  0.1056004 ,\n",
       "         0.29397427, -0.75525275, -1.13034457,  1.29443966, -0.10788573]),\n",
       " 'no': array([-3.08890793e-03,  8.39941729e-01,  1.15462793e+00,  3.31125837e+00,\n",
       "        -1.24146154e+00, -1.68090237e+00,  9.01992821e-02,  6.74834853e-01,\n",
       "         4.88010045e-02, -4.30082786e-01]),\n",
       " 'matter': array([ 2.84764833,  1.49179991,  0.61892814,  0.6593634 ,  0.97202252,\n",
       "         0.32410791, -0.59436116, -0.03130195, -0.66043225, -1.97483019]),\n",
       " 'what': array([ 0.81472506, -0.55887271, -0.1186819 ,  2.30796569,  0.16477071,\n",
       "        -0.05810631, -1.40744446,  2.41816272,  0.2080669 , -0.13425854]),\n",
       " 'your': array([ 0.95544315,  1.66910216,  1.32066916,  1.5157452 ,  0.62000699,\n",
       "         0.87775326, -0.97929958,  0.92110897, -1.17558656,  0.63782775]),\n",
       " 'profession': array([ 0.22421514,  1.67437501, -0.36258016,  2.5185399 ,  0.04750492,\n",
       "         1.08230176,  0.6104362 ,  0.02094421, -0.14827298,  0.39837007]),\n",
       " 'or': array([ 0.66857249,  0.94219519, -0.85501646,  1.74471915,  1.14107556,\n",
       "         1.38506303,  0.69411249, -0.63607602,  0.65859422, -1.47416063]),\n",
       " 'how': array([ 1.29131093, -0.98895768, -0.61339262,  1.66273178,  2.20683923,\n",
       "         0.76169107, -0.80679948,  0.5110672 , -0.675711  , -0.65806108]),\n",
       " 'happy': array([ 0.48503523, -0.01108757,  0.30092973,  0.77174572,  0.72092406,\n",
       "         1.69603239, -0.44512882,  2.31201783, -0.82854965,  0.4061593 ]),\n",
       " 'you': array([ 3.12921831,  1.90728321, -0.55150619,  0.79098794, -0.64490509,\n",
       "         0.68353356, -0.10824534,  0.4935332 , -0.93200943,  2.16964623]),\n",
       " 'may': array([ 0.08809623,  1.41796063, -1.85717807,  0.99186646,  1.5025158 ,\n",
       "         0.63866681,  0.49996634, -0.44226828,  1.18519758,  0.55887659]),\n",
       " 'there': array([ 0.12292912,  1.7481815 ,  0.02702966,  0.62720005, -0.32930989,\n",
       "         0.34628489,  0.0951991 ,  0.28372375,  0.09332538,  2.72739778]),\n",
       " 'are': array([-0.68433005,  1.43382372, -0.01673412,  0.36351328,  1.85164412,\n",
       "        -0.01318256,  0.31690382, -0.72714947, -0.13496384,  1.99493711]),\n",
       " 'moments': array([ 0.8535698 ,  0.58007212,  0.30967451,  1.84453046,  0.81321222,\n",
       "         0.1816679 ,  1.03775507, -0.44724517,  0.39573113,  1.79727444]),\n",
       " 'when': array([-0.31412294, -0.23087634,  0.53360564,  2.23623796,  1.83840439,\n",
       "         1.3280569 ,  0.52168349,  0.1227992 ,  0.35024926, -0.0202469 ]),\n",
       " 'wish': array([ 1.08562046,  0.20188128, -0.74745729,  0.76548395,  1.41452305,\n",
       "         1.69692878, -0.41444333, -0.13737171, -0.20629788,  1.46677099]),\n",
       " 'had': array([ 1.20983199, -1.22756262, -0.76356285,  1.70051534,  1.19240895,\n",
       "         0.41229773,  1.14971065, -0.57521267,  0.58620952,  0.56630565]),\n",
       " 'chosen': array([ 2.31923475, -0.17963311,  1.09515462,  1.55076048,  0.81096144,\n",
       "         0.66987976,  0.64512608,  0.23564274, -0.12564416, -0.06553311]),\n",
       " 'some': array([ 1.36748809, -1.33496522,  0.38695216, -0.42066814,  1.12711496,\n",
       "         1.93941725,  0.95704459,  0.50436839, -0.50716079,  0.66001736]),\n",
       " 'other': array([ 2.15367749,  0.75828023,  1.99721283, -0.84117831,  0.60126903,\n",
       "         1.43155988,  0.45073616, -0.69929695, -0.83502689,  0.93151726]),\n",
       " 'career': array([ 2.28767118, -0.6324943 ,  0.56887555,  0.72706816, -0.72266949,\n",
       "         0.23885198,  1.51545483, -0.96998996,  0.15703274,  1.90683782]),\n",
       " 'has': array([ 2.01883649,  0.26650141, -0.37213003, -0.30143683,  0.73250619,\n",
       "         0.91705031, -0.27162073, -1.2279918 ,  2.54278216,  0.41462271]),\n",
       " 'boyfriend': array([ 1.11012997, -0.21178443,  2.21323329, -0.31301549, -0.01376957,\n",
       "         0.38924734, -1.03672756,  0.70025223,  1.35909963,  0.49527789]),\n",
       " 'shes': array([ 0.1414108 , -0.02635835,  2.48727521, -0.74049776, -1.03612677,\n",
       "         0.91119212,  0.34981359,  0.92518819,  0.10739768,  1.94904054]),\n",
       " 'been': array([ 1.1022442 ,  0.87992091,  1.09217736,  0.16213711, -0.72660753,\n",
       "         1.25838445,  1.12331205, -0.64649976,  1.31182037,  0.74010778]),\n",
       " 'going': array([ 1.09921094, -0.16015941, -0.16598795,  1.44787964, -1.5488737 ,\n",
       "         1.48182144,  1.13075697,  0.68131709,  1.24267799, -0.01471525]),\n",
       " 'out': array([ 1.92494417, -0.28801278,  1.57554885,  1.25975496, -0.22039126,\n",
       "         1.63177904, -0.65912168,  0.51880002,  0.51296585, -0.29290463]),\n",
       " 'with': array([ 1.38566886, -0.02500531,  2.63091496,  0.33904876, -0.59363417,\n",
       "         0.78551018,  1.20411934, -0.62279752, -0.47654603,  0.04704904]),\n",
       " 'since': array([-0.44835032,  0.28441625,  1.63070366,  2.14138193,  0.020611  ,\n",
       "         1.20054943,  1.11422089,  0.53670731,  0.03805097,  0.77690577]),\n",
       " 'high': array([ 0.43263165, -1.05762974,  0.96951962,  1.44223131, -0.93340796,\n",
       "        -0.17215866,  2.0572721 ,  0.79927453,  1.16811699,  0.32779784]),\n",
       " 'school': array([ 0.89544104, -0.81048079,  1.13937881,  1.75443221,  0.93543661,\n",
       "         0.76080316,  0.45779987,  0.26763837,  1.14700527, -1.39001683]),\n",
       " 'but': array([ 1.41528919,  0.21404705,  1.08289037,  1.28873418,  0.59787452,\n",
       "        -0.01864946,  0.96738828, -1.48894143,  1.34164189,  0.21768744]),\n",
       " 'feels': array([-0.06945638, -0.02923763,  1.54022837,  1.78931064,  0.41102282,\n",
       "         0.03068085, -0.44504462,  0.73369313,  1.03922905,  1.83901069]),\n",
       " 'their': array([ 0.43507266, -0.73742084,  1.40519176,  0.56720849,  2.09261367,\n",
       "         1.31240738, -0.45202059,  0.59589261,  1.33852215, -0.12486852]),\n",
       " 'relationship': array([ 0.22854144, -0.82122644,  1.04234507, -0.01465753,  0.35236726,\n",
       "         0.48169871,  1.00463284, -0.20268972,  1.97737902,  1.46514781]),\n",
       " 'stagnated': array([-0.20198362,  0.64788922,  0.29451136,  0.72519242, -0.05876443,\n",
       "         1.24032649, -0.65647673,  0.33979109,  1.57138421,  2.12846229]),\n",
       " 'so': array([ 0.3148008 ,  0.17545529,  0.71067347, -0.03629286,  1.25143388,\n",
       "         1.8259394 , -1.63924305,  1.48987307,  1.16646697,  0.68338534]),\n",
       " 'become': array([ 1.72390585, -0.66186218,  0.24895271, -1.40841834,  0.36975841,\n",
       "         1.78545113,  0.24971457,  1.05575083,  1.04304204,  0.53500007]),\n",
       " 'dissatisfied': array([ 0.19534838,  0.01475684, -1.03415662,  0.08059056, -1.58563447,\n",
       "         2.17469356,  0.46103905,  0.29977412,  1.53131466,  1.09937324]),\n",
       " 'much': array([ 0.55038174,  1.30368883, -0.6521358 ,  1.69341756,  1.81357103,\n",
       "        -0.46086124, -0.67148058, -0.13656834,  0.42342474,  0.79635063]),\n",
       " 'try': array([ 0.75372472,  1.14358109,  0.13063271,  1.1598046 ,  1.12726373,\n",
       "        -0.43696582,  1.50293445,  1.10921234, -0.46276905, -0.59759328]),\n",
       " 'convince': array([ 0.85890264,  0.9647418 ,  0.23665119, -1.10683804,  2.11586568,\n",
       "        -0.42527731,  1.11136995,  0.92369895, -0.50541856,  1.16902724]),\n",
       " 'that': array([ 0.88265746,  2.17093258, -0.84004346, -0.4049355 , -0.17363387,\n",
       "        -1.17559577,  1.61182513, -0.56825747,  1.07528683, -0.0827718 ]),\n",
       " 'chocolate': array([-0.97730633,  0.43344263, -1.18481705,  1.07123496,  1.14982793,\n",
       "         0.94123141,  1.98354553,  1.04183611,  0.74820149, -1.3310222 ]),\n",
       " 'is': array([ 0.05360409,  1.07479717,  0.20799551, -1.29073498,  0.20684272,\n",
       "         0.30355096,  2.15443311,  0.75675068,  0.04413624, -0.64886345]),\n",
       " 'vanilla': array([-1.0561785 , -0.61723291,  0.01908324, -0.67876813,  0.10018631,\n",
       "         1.09419243,  1.40642865,  1.66322496,  2.21818306, -0.18205859]),\n",
       " 'itll': array([ 1.16039576,  0.84863284, -0.42463615, -1.11512197, -0.97087901,\n",
       "         0.9054874 ,  0.97852354,  1.35533127,  0.3465247 ,  0.74743222]),\n",
       " 'still': array([-0.01993125,  1.77597751, -1.36547721, -0.03089504,  0.3548394 ,\n",
       "         1.51007763,  0.12157145,  0.71422565,  1.10367446, -0.19808751]),\n",
       " 'even': array([ 0.68898438, -0.08289726, -0.72081026,  0.29235786, -0.18514434,\n",
       "         1.44518626,  1.9727727 ,  1.47543755, -0.60493983,  0.63536755]),\n",
       " 'though': array([-0.34474432,  0.56696729, -0.53386084, -0.71385207,  1.56228603,\n",
       "         2.0979777 , -0.15289949,  1.02770777,  0.329175  ,  0.6123094 ]),\n",
       " 'manage': array([ 1.61700735, -0.48328234, -0.66640134,  0.92157936,  0.8894537 ,\n",
       "        -0.18613819,  1.49242667,  1.24151346, -0.52610949,  0.79864928]),\n",
       " 'yourself': array([ 1.00955191,  1.00592955, -0.6702655 ,  0.14963771,  1.41292107,\n",
       "        -0.17954394, -0.60646942, -0.21006902,  1.46761529,  1.61207835]),\n",
       " 'and': array([ 1.36116411,  1.01242123,  0.3822798 ,  0.1681031 ,  0.44831422,\n",
       "        -1.90664678,  0.55551722,  0.77157583,  0.78555865,  0.58367972]),\n",
       " 'few': array([ 0.30808121, -0.0921081 ,  1.39030105, -1.10054304,  1.5786802 ,\n",
       "        -0.51238548,  0.40940793,  0.65093824,  1.30281061,  0.68513415]),\n",
       " 'others': array([ 0.10648405,  1.00373644, -0.10280151, -1.3227888 ,  0.03047828,\n",
       "         0.56299667, -0.594924  ,  0.41979654,  1.88449727,  1.14218973]),\n",
       " 'its': array([-0.09249135,  1.6895996 , -0.79441249, -0.01822946, -0.71151339,\n",
       "        -0.63788768, -0.37041493,  2.087608  ,  1.38752512, -0.34601209])}"
      ]
     },
     "execution_count": 58,
     "metadata": {},
     "output_type": "execute_result"
    }
   ],
   "source": [
    "dense_vec_dict"
   ]
  },
  {
   "cell_type": "markdown",
   "metadata": {},
   "source": [
    "### Word2Vec Skip-Gram Model"
   ]
  },
  {
   "cell_type": "code",
   "execution_count": null,
   "metadata": {},
   "outputs": [],
   "source": [
    "# define hyperparameters\n",
    "window_size = 3\n",
    "h_dim = 10\n",
    "learning_rate = 0.001\n",
    "epoch = 10000 \n",
    "\n",
    "# define weights\n",
    "theta1 = np.random.rand(vocab_size, h_dim)\n",
    "theta2 = np.random.rand(h_dim, vocab_size)\n",
    "\n",
    "# define softmax activation function\n",
    "def softmax(x):\n",
    "    e_x = np.exp(x)\n",
    "    return e_x / np.sum(e_x)"
   ]
  },
  {
   "cell_type": "code",
   "execution_count": null,
   "metadata": {},
   "outputs": [],
   "source": [
    "# perform one-hot encoding\n",
    "word_dict = dict()\n",
    "for index, word in enumerate(vocab):\n",
    "    word_dict[word] = np.zeros(vocab_size)\n",
    "    word_dict[word][index] = 1"
   ]
  },
  {
   "cell_type": "code",
   "execution_count": 88,
   "metadata": {},
   "outputs": [],
   "source": [
    "# preprocess text using Skip-Gram model\n",
    "focus_context = list()\n",
    "for line in text:\n",
    "    for index, focus in enumerate(line):\n",
    "        context = list()\n",
    "        for j in range(index - window_size, index + window_size + 1):\n",
    "            if j >= 0 and j <= len(line) - 1 and j != index:\n",
    "                context.append(word_dict[line[j]])\n",
    "        focus_context.append([word_dict[focus], sum(context)])"
   ]
  },
  {
   "cell_type": "code",
   "execution_count": null,
   "metadata": {},
   "outputs": [],
   "source": []
  }
 ],
 "metadata": {
  "kernelspec": {
   "display_name": "Python 3",
   "language": "python",
   "name": "python3"
  },
  "language_info": {
   "codemirror_mode": {
    "name": "ipython",
    "version": 3
   },
   "file_extension": ".py",
   "mimetype": "text/x-python",
   "name": "python",
   "nbconvert_exporter": "python",
   "pygments_lexer": "ipython3",
   "version": "3.7.4"
  }
 },
 "nbformat": 4,
 "nbformat_minor": 2
}
