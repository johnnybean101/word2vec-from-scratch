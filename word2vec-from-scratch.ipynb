{
 "cells": [
  {
   "cell_type": "markdown",
   "metadata": {},
   "source": [
    "### Import Libraries    "
   ]
  },
  {
   "cell_type": "code",
   "execution_count": 1,
   "metadata": {},
   "outputs": [],
   "source": [
    "# import libraries\n",
    "import re\n",
    "import itertools\n",
    "from collections import OrderedDict\n",
    "import numpy as np\n",
    "from random import shuffle\n",
    "import matplotlib.pyplot as plt"
   ]
  },
  {
   "cell_type": "markdown",
   "metadata": {},
   "source": [
    "### Load Text Data"
   ]
  },
  {
   "cell_type": "code",
   "execution_count": 2,
   "metadata": {},
   "outputs": [],
   "source": [
    "# load text file\n",
    "def load_text(file):\n",
    "    with open(file, mode='rt', encoding='utf-8-sig') as f:\n",
    "        text = f.read().split('\\n')\n",
    "        return [line.split('\\t')[0] for line in text]"
   ]
  },
  {
   "cell_type": "code",
   "execution_count": 3,
   "metadata": {},
   "outputs": [],
   "source": [
    "# remove punctuations, convert to lowercase\n",
    "def clean_text(text):\n",
    "    return [re.sub('[^a-z0-9 ]', '', line.lower()).split() for line in text]"
   ]
  },
  {
   "cell_type": "code",
   "execution_count": 4,
   "metadata": {},
   "outputs": [
    {
     "name": "stdout",
     "output_type": "stream",
     "text": [
      "Sample Text: ['she', 'advised', 'him', 'to', 'visit', 'boston', 'because', 'she', 'thought', 'it', 'was', 'the', 'most', 'beautiful', 'city', 'in', 'the', 'world']\n"
     ]
    }
   ],
   "source": [
    "# load text\n",
    "text = load_text('tl_en.txt')\n",
    "# clean text\n",
    "text = clean_text(text)[-5:]\n",
    "print('Sample Text: ' + str(text[0]))"
   ]
  },
  {
   "cell_type": "code",
   "execution_count": 5,
   "metadata": {},
   "outputs": [
    {
     "name": "stdout",
     "output_type": "stream",
     "text": [
      "Text Vocabulary: 86\n"
     ]
    }
   ],
   "source": [
    "# get text vocabulary\n",
    "vocab = list(OrderedDict.fromkeys(list(itertools.chain.from_iterable(text))))\n",
    "vocab_size = len(vocab)\n",
    "print('Text Vocabulary: ' + str(vocab_size))"
   ]
  },
  {
   "cell_type": "markdown",
   "metadata": {},
   "source": [
    "### Word2Vec CBOW Model"
   ]
  },
  {
   "cell_type": "code",
   "execution_count": 10,
   "metadata": {},
   "outputs": [],
   "source": [
    "# define hyperparameters\n",
    "window_size = 3\n",
    "h_dim = 10\n",
    "learning_rate = 0.001\n",
    "epoch = 10000\n",
    "\n",
    "# define weights\n",
    "theta1 = np.random.rand(vocab_size, h_dim)\n",
    "theta2 = np.random.rand(h_dim, vocab_size)\n",
    "\n",
    "# define softmax activation function\n",
    "def softmax(x):\n",
    "    e_x = np.exp(x)\n",
    "    return e_x / np.sum(e_x)"
   ]
  },
  {
   "cell_type": "code",
   "execution_count": 11,
   "metadata": {},
   "outputs": [],
   "source": [
    "# perform one-hot encoding\n",
    "word_dict = dict()\n",
    "for index, word in enumerate(vocab):\n",
    "    word_dict[word] = [index, np.zeros(vocab_size)]\n",
    "    word_dict[word][1][index] = 1"
   ]
  },
  {
   "cell_type": "code",
   "execution_count": 12,
   "metadata": {},
   "outputs": [
    {
     "name": "stdout",
     "output_type": "stream",
     "text": [
      "Number of Training Samples: 118\n"
     ]
    }
   ],
   "source": [
    "# preprocess text using CBOW model\n",
    "context_focus = list()\n",
    "for line in text:\n",
    "    for index, focus in enumerate(line):\n",
    "        context = list()\n",
    "        for j in range(index - window_size, index + window_size + 1):\n",
    "            if j >= 0 and j <= len(line) - 1 and j != index:\n",
    "                context.append(word_dict[line[j]][1])\n",
    "        context_focus.append([sum(context), word_dict[focus][1]])\n",
    "# number of training samples\n",
    "m = len(context_focus)\n",
    "print('Number of Training Samples: ' + str(m))"
   ]
  },
  {
   "cell_type": "code",
   "execution_count": 13,
   "metadata": {},
   "outputs": [],
   "source": [
    "# stochastic gradient descent\n",
    "ave_loss = list()\n",
    "std_loss = list()\n",
    "for i in range(epoch):\n",
    "    # introduce random sampling\n",
    "    shuffle(context_focus)\n",
    "    loss = list()\n",
    "    for pair in context_focus:\n",
    "        # perform feedforward\n",
    "        a2 = np.dot(pair[0], theta1)\n",
    "        a3 = softmax(np.dot(a2, theta2))\n",
    "        loss.append(-np.log(np.dot(a3, pair[1].T)))\n",
    "        \n",
    "        # perform backpropagation\n",
    "        delta_theta2 = np.outer(a2, a3 - pair[1])\n",
    "        delta_theta1 = np.outer(pair[0], np.dot(theta2, (a3 - pair[1]).T))\n",
    "        theta2 -= learning_rate * delta_theta2\n",
    "        theta1 -= learning_rate * delta_theta1\n",
    "    ave_loss.append(np.average(loss))\n",
    "    std_loss.append(np.std(loss))"
   ]
  },
  {
   "cell_type": "code",
   "execution_count": 14,
   "metadata": {},
   "outputs": [
    {
     "data": {
      "text/plain": [
       "[<matplotlib.lines.Line2D at 0x187dd156488>]"
      ]
     },
     "execution_count": 14,
     "metadata": {},
     "output_type": "execute_result"
    },
    {
     "data": {
      "image/png": "[encoded data removed]",
      "text/plain": [
       "<Figure size 720x360 with 1 Axes>"
      ]
     },
     "metadata": {
      "needs_background": "light"
     },
     "output_type": "display_data"
    }
   ],
   "source": [
    "# plot loss vs epoch number\n",
    "fig, ax = plt.subplots(figsize=(10, 5))\n",
    "ax.set_title('Average Loss vs Epoch Number', fontsize=20)\n",
    "ax.set_xlabel('Epoch Number', fontsize=15), ax.set_ylabel('Average Loss', fontsize=15)\n",
    "ax.spines[\"top\"].set_visible(False)  \n",
    "ax.spines[\"right\"].set_visible(False)\n",
    "plt.fill_between(range(epoch), np.array(ave_loss) - np.array(std_loss), np.array(ave_loss) + np.array(std_loss), color=\"#3F5D7D\")\n",
    "ax.plot(range(epoch), ave_loss)"
   ]
  },
  {
   "cell_type": "code",
   "execution_count": 15,
   "metadata": {},
   "outputs": [],
   "source": [
    "# theta2 as word vector representation \n",
    "dense_vec_dict = dict()\n",
    "for key, value in word_dict.items():\n",
    "    dense_vec_dict[key] = theta2[:,value[0]]"
   ]
  },
  {
   "cell_type": "code",
   "execution_count": 16,
   "metadata": {},
   "outputs": [
    {
     "data": {
      "text/plain": [
       "array([-0.52337836, -0.180021  , -0.9800746 ,  3.50401874, -0.41691494,\n",
       "        1.35109614,  1.0481096 , -0.74203953,  1.00113441,  1.04062821])"
      ]
     },
     "execution_count": 16,
     "metadata": {},
     "output_type": "execute_result"
    }
   ],
   "source": [
    "# sample word vector representation\n",
    "dense_vec_dict['she']"
   ]
  },
  {
   "cell_type": "markdown",
   "metadata": {},
   "source": [
    "### Word2Vec Skip-Gram Model"
   ]
  },
  {
   "cell_type": "code",
   "execution_count": 6,
   "metadata": {},
   "outputs": [],
   "source": [
    "# define hyperparameters\n",
    "window_size = 3\n",
    "h_dim = 10\n",
    "learning_rate = 0.001\n",
    "epoch = 10000 \n",
    "\n",
    "# define weights\n",
    "theta1 = np.random.rand(vocab_size, h_dim)\n",
    "theta2 = np.random.rand(h_dim, vocab_size)\n",
    "\n",
    "# define softmax activation function\n",
    "def softmax(x):\n",
    "    e_x = np.exp(x)\n",
    "    return e_x / np.sum(e_x)"
   ]
  },
  {
   "cell_type": "code",
   "execution_count": 7,
   "metadata": {},
   "outputs": [],
   "source": [
    "# perform one-hot encoding\n",
    "word_dict = dict()\n",
    "for index, word in enumerate(vocab):\n",
    "    word_dict[word] = [index, np.zeros(vocab_size)]\n",
    "    word_dict[word][1][index] = 1"
   ]
  },
  {
   "cell_type": "code",
   "execution_count": 9,
   "metadata": {},
   "outputs": [
    {
     "name": "stdout",
     "output_type": "stream",
     "text": [
      "Number of Training Samples: 118\n"
     ]
    }
   ],
   "source": [
    "# preprocess text using Skip-Gram model\n",
    "focus_context = list()\n",
    "for line in text:\n",
    "    for index, focus in enumerate(line):\n",
    "        context = list()\n",
    "        for j in range(index - window_size, index + window_size + 1):\n",
    "            if j >= 0 and j <= len(line) - 1 and j != index:\n",
    "                context.append(word_dict[line[j]][1])\n",
    "        focus_context.append([word_dict[focus][1], sum(context)])\n",
    "# number of training samples\n",
    "m = len(focus_context)\n",
    "print('Number of Training Samples: ' + str(m))"
   ]
  },
  {
   "cell_type": "code",
   "execution_count": 10,
   "metadata": {},
   "outputs": [],
   "source": [
    "# stochastic gradient descent\n",
    "ave_loss = list()\n",
    "std_loss = list()\n",
    "for i in range(epoch):\n",
    "    # introduce random sampling\n",
    "    shuffle(focus_context)\n",
    "    loss = list()\n",
    "    for pair in focus_context:\n",
    "        # perform feedforward\n",
    "        a2 = np.dot(pair[0], theta1)\n",
    "        a3 = softmax(np.dot(a2, theta2))\n",
    "        # store jth output node corresponding to indices of context words\n",
    "        dummy = np.multiply(a3, pair[1].T)\n",
    "        loss.append(-np.log(np.prod(dummy[dummy != 0])))\n",
    "        \n",
    "        # perform backpropagation\n",
    "        delta_theta2 = np.outer(a2, (sum(pair[1])*a3) - pair[1])\n",
    "        delta_theta1 = np.outer(pair[0], np.dot(theta2, ((sum(pair[1])*a3) - pair[1]).T))\n",
    "        theta2 -= learning_rate * delta_theta2\n",
    "        theta1 -= learning_rate * delta_theta1\n",
    "    ave_loss.append(np.average(loss))\n",
    "    std_loss.append(np.std(loss))"
   ]
  },
  {
   "cell_type": "code",
   "execution_count": 11,
   "metadata": {},
   "outputs": [
    {
     "data": {
      "text/plain": [
       "[<matplotlib.lines.Line2D at 0x2dd224cef88>]"
      ]
     },
     "execution_count": 11,
     "metadata": {},
     "output_type": "execute_result"
    },
    {
     "data": {
      "image/png": "[encoded data removed]",
      "text/plain": [
       "<Figure size 720x360 with 1 Axes>"
      ]
     },
     "metadata": {
      "needs_background": "light"
     },
     "output_type": "display_data"
    }
   ],
   "source": [
    "# plot loss vs epoch number\n",
    "fig, ax = plt.subplots(figsize=(10, 5))\n",
    "ax.set_title('Average Loss vs Epoch Number', fontsize=20)\n",
    "ax.set_xlabel('Epoch Number', fontsize=15), ax.set_ylabel('Average Loss', fontsize=15)\n",
    "ax.spines[\"top\"].set_visible(False)  \n",
    "ax.spines[\"right\"].set_visible(False)\n",
    "plt.fill_between(range(epoch), np.array(ave_loss) - np.array(std_loss), np.array(ave_loss) + np.array(std_loss), color=\"#3F5D7D\")\n",
    "ax.plot(range(epoch), ave_loss)"
   ]
  },
  {
   "cell_type": "code",
   "execution_count": 12,
   "metadata": {},
   "outputs": [],
   "source": [
    "# theta1 as word vector representation \n",
    "dense_vec_dict = dict()\n",
    "for key, value in word_dict.items():\n",
    "    dense_vec_dict[key] = theta1[value[0], :]"
   ]
  },
  {
   "cell_type": "code",
   "execution_count": 13,
   "metadata": {},
   "outputs": [
    {
     "data": {
      "text/plain": [
       "array([-1.27177453,  1.57414986, -1.1311829 , -0.582413  , -0.65130955,\n",
       "        0.57629824,  3.45303057,  0.52046223, -1.82976515,  0.35813127])"
      ]
     },
     "execution_count": 13,
     "metadata": {},
     "output_type": "execute_result"
    }
   ],
   "source": [
    "# sample word vector representation\n",
    "dense_vec_dict['she']"
   ]
  },
  {
   "cell_type": "code",
   "execution_count": null,
   "metadata": {},
   "outputs": [],
   "source": []
  }
 ],
 "metadata": {
  "kernelspec": {
   "display_name": "Python 3",
   "language": "python",
   "name": "python3"
  },
  "language_info": {
   "codemirror_mode": {
    "name": "ipython",
    "version": 3
   },
   "file_extension": ".py",
   "mimetype": "text/x-python",
   "name": "python",
   "nbconvert_exporter": "python",
   "pygments_lexer": "ipython3",
   "version": "3.7.4"
  }
 },
 "nbformat": 4,
 "nbformat_minor": 2
}
